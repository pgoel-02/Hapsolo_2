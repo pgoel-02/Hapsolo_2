{
 "cells": [
  {
   "cell_type": "code",
   "execution_count": 2,
   "metadata": {
    "id": "XyQ4pTyStkSi"
   },
   "outputs": [],
   "source": [
    "from multiprocessing import Pool\n",
    "import torch\n",
    "import pandas as pd\n",
    "import random\n",
    "import heapq\n",
    "import hill_climbing2\n",
    "import time"
   ]
  },
  {
   "cell_type": "code",
   "execution_count": null,
   "metadata": {
    "colab": {
     "base_uri": "https://localhost:8080/"
    },
    "id": "lvxK0kMEYoVD",
    "outputId": "1d7236f6-00bc-45e2-acae-9e10eccd3e3a"
   },
   "outputs": [],
   "source": [
    "num_of_cores = 5\n",
    "num_total_solutions = 10\n",
    "\n",
    "def generate_random_tuple(num_of_cores):\n",
    "    return list(random.random() for _ in range(num_of_cores))\n",
    "\n",
    "parentUPQ = []\n",
    "qthreshold_tuple = generate_random_tuple(num_of_cores)\n",
    "pidthreshold_tuple = generate_random_tuple(num_of_cores)\n",
    "qralign_tuple = generate_random_tuple(num_of_cores)\n",
    "new_tuple = []\n",
    "\n",
    "for i in range(num_of_cores):\n",
    " list_= [qthreshold_tuple[i],pidthreshold_tuple[i], qralign_tuple[i]]\n",
    " new_tuple.append(tuple(list_))\n",
    "   \n",
    "torch.multiprocessing.set_start_method('spawn', force=True)\n",
    "\n",
    "start_time = time.time()\n",
    "if __name__ == '__main__':\n",
    "    with torch.multiprocessing.Pool(processes=num_of_cores) as pool:\n",
    "        myUPQlist = pool.map(hill_climbing2.hill_climbing_2, new_tuple)\n",
    "\n",
    "end_time = time.time()\n",
    "time_taken = end_time - start_time\n",
    "print(\"Execution time:\" + str(time_taken))\n",
    "\n",
    "pq = []\n",
    "for lst in myUPQlist:\n",
    "  for item in lst.return_pq():\n",
    "      heapq.heappush(pq, item)\n",
    "\n",
    "final_solution = []\n",
    "for i in range(min(num_total_solutions, len(pq))):\n",
    "    final_solution.append(heapq.heappop(pq))"
   ]
  }
 ],
 "metadata": {
  "colab": {
   "provenance": []
  },
  "kernelspec": {
   "display_name": "Python 3",
   "language": "python",
   "name": "python3"
  },
  "language_info": {
   "codemirror_mode": {
    "name": "ipython",
    "version": 3
   },
   "file_extension": ".py",
   "mimetype": "text/x-python",
   "name": "python",
   "nbconvert_exporter": "python",
   "pygments_lexer": "ipython3",
   "version": "3.11.4 (main, Jun  7 2023, 00:34:23) [Clang 14.0.0 (clang-1400.0.29.202)]"
  },
  "vscode": {
   "interpreter": {
    "hash": "b0fa6594d8f4cbf19f97940f81e996739fb7646882a419484c72d19e05852a7e"
   }
  }
 },
 "nbformat": 4,
 "nbformat_minor": 4
}
